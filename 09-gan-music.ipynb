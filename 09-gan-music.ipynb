{
  "nbformat": 4,
  "nbformat_minor": 0,
  "metadata": {
    "colab": {
      "name": "09-gan-music.ipynb",
      "provenance": [],
      "collapsed_sections": [],
      "toc_visible": true
    },
    "kernelspec": {
      "name": "python3",
      "display_name": "Python 3"
    },
    "accelerator": "GPU"
  },
  "cells": [
    {
      "cell_type": "markdown",
      "metadata": {
        "id": "PUF2xeC-SBny"
      },
      "source": [
        "# GAN + Music"
      ]
    },
    {
      "cell_type": "code",
      "metadata": {
        "id": "RRKIGTtKUs3f"
      },
      "source": [
        "from google.colab import drive\n",
        "drive.mount('/content/drive')"
      ],
      "execution_count": null,
      "outputs": []
    },
    {
      "cell_type": "markdown",
      "metadata": {
        "id": "CoTpGXNVSFZ8"
      },
      "source": [
        "## Sound Spleeter\n",
        "\n",
        "https://github.com/deezer/spleeter\n",
        "\n",
        "Разделение звуковой дорожки на составляющие\n",
        "\n",
        "**Установка**"
      ]
    },
    {
      "cell_type": "code",
      "metadata": {
        "id": "ZcRD6Z0bR8rZ"
      },
      "source": [
        "!apt install ffmpeg\n",
        "!pip install spleeter\n",
        "from IPython.display import Audio"
      ],
      "execution_count": 3,
      "outputs": []
    },
    {
      "cell_type": "markdown",
      "metadata": {
        "id": "ieWS5LxOTKkc"
      },
      "source": [
        "**Загружаем аудио**"
      ]
    },
    {
      "cell_type": "code",
      "metadata": {
        "id": "52cbXskkSrn6"
      },
      "source": [
        "from google.colab import files\n",
        "uploaded = files.upload()"
      ],
      "execution_count": null,
      "outputs": []
    },
    {
      "cell_type": "code",
      "metadata": {
        "id": "YIfb7QzIS-QZ"
      },
      "source": [
        "Audio('rapchik.mp3')"
      ],
      "execution_count": null,
      "outputs": []
    },
    {
      "cell_type": "markdown",
      "metadata": {
        "id": "xFaYF0KiTNkt"
      },
      "source": [
        "**Использование**\n",
        "\n",
        "Опции:\n",
        "- по умолчанию делит трек на два - вокал / остальное\n",
        "- с флагом `-p spleeter:4stems` - вокал / бас / ударные / остальное\n",
        "- с флагом `-p spleeter:5stems` - вокал / бас / ударные / клавиши / остальное\n",
        "\n",
        "Подробную инструкцию можно глянуть, используя эту команду"
      ]
    },
    {
      "cell_type": "code",
      "metadata": {
        "id": "LZBsUWPGTXLL"
      },
      "source": [
        "!spleeter separate -h "
      ],
      "execution_count": null,
      "outputs": []
    },
    {
      "cell_type": "code",
      "metadata": {
        "id": "qeO097eCTbjb"
      },
      "source": [
        "!spleeter separate -i rapchik.mp3 -o output/ -p spleeter:5stems"
      ],
      "execution_count": null,
      "outputs": []
    },
    {
      "cell_type": "code",
      "metadata": {
        "id": "Jf2L-InZTovB"
      },
      "source": [
        "!for i in output/rapchik/*.wav; do ffmpeg -i \"$i\" -acodec libmp3lame \"${i%%.*}.mp3\"; done"
      ],
      "execution_count": null,
      "outputs": []
    },
    {
      "cell_type": "code",
      "metadata": {
        "id": "ylBq2oj7UOpw"
      },
      "source": [
        "Audio('output/rapchik/vocals.mp3')"
      ],
      "execution_count": null,
      "outputs": []
    },
    {
      "cell_type": "code",
      "metadata": {
        "id": "tdaEHU7TXMSb"
      },
      "source": [
        "Audio('output/rapchik/drums.mp3')"
      ],
      "execution_count": null,
      "outputs": []
    },
    {
      "cell_type": "code",
      "metadata": {
        "id": "_gEEE58SXOVB"
      },
      "source": [
        "Audio('output/rapchik/bass.mp3')"
      ],
      "execution_count": null,
      "outputs": []
    },
    {
      "cell_type": "code",
      "metadata": {
        "id": "Rca_VMEmXPxV"
      },
      "source": [
        "Audio('output/rapchik/piano.mp3')"
      ],
      "execution_count": null,
      "outputs": []
    },
    {
      "cell_type": "code",
      "metadata": {
        "id": "j9dS1bIrXQ4k"
      },
      "source": [
        "Audio('output/rapchik/other.mp3')"
      ],
      "execution_count": null,
      "outputs": []
    },
    {
      "cell_type": "markdown",
      "metadata": {
        "id": "1CLgPBfwU03S"
      },
      "source": [
        "**Сохраняем результат на Диск**"
      ]
    },
    {
      "cell_type": "code",
      "metadata": {
        "id": "LXWIptwTU0Gg"
      },
      "source": [
        "!mkdir -p \"/content/drive/My Drive/stylegan/sound/\"\n",
        "!cp -r /content/output/rapchik /content/drive/My\\ Drive/stylegan/sound/\n",
        "!cp /content/rapchik.mp3 /content/drive/My\\ Drive/stylegan/sound/rapchik/"
      ],
      "execution_count": null,
      "outputs": []
    },
    {
      "cell_type": "markdown",
      "metadata": {
        "id": "C9Jx605eTXth"
      },
      "source": [
        "## GAN + Music"
      ]
    },
    {
      "cell_type": "code",
      "metadata": {
        "id": "yO9AJ7H-Xkdb"
      },
      "source": [
        "%tensorflow_version 1.x\n",
        "import tensorflow as tf\n",
        "\n",
        "# Download the code\n",
        "!git clone https://github.com/NVlabs/stylegan2.git\n",
        "%cd stylegan2\n",
        "!nvcc test_nvcc.cu -o test_nvcc -run\n",
        "\n",
        "print('Tensorflow version: {}'.format(tf.__version__) )\n",
        "!nvidia-smi -L\n",
        "print('GPU Identified at: {}'.format(tf.test.gpu_device_name()))\n",
        "!mkdir data\n",
        "%cd data\n",
        "!wget https://rolux.org/media/stylegan2/vectors/mouth_ratio.npy\n",
        "!wget https://rolux.org/media/stylegan2/vectors/mouth_open.npy\n",
        "%cd .."
      ],
      "execution_count": null,
      "outputs": []
    },
    {
      "cell_type": "code",
      "metadata": {
        "id": "6nqn0TkFXuzY"
      },
      "source": [
        "!cp /content/drive/My\\ Drive/stylegan/sound/rapchik/* /content/stylegan2/data/."
      ],
      "execution_count": 6,
      "outputs": []
    },
    {
      "cell_type": "code",
      "metadata": {
        "id": "lpWAyjY0X03W",
        "cellView": "form"
      },
      "source": [
        "#@title Параметры генерации / Generation settings\n",
        "import os\n",
        "import numpy as np\n",
        "from scipy.interpolate import interp1d\n",
        "from scipy.io import wavfile\n",
        "import matplotlib.pyplot as plt\n",
        "import PIL.Image\n",
        "import moviepy.editor\n",
        "\n",
        "import dnnlib\n",
        "import dnnlib.tflib as tflib\n",
        "import pretrained_networks\n",
        "\n",
        "audio = {}\n",
        "#@markdown FPS конечного видео/ Final FPS\n",
        "fps = 60 #@param {type: \"number\"}\n",
        "\n",
        "# https://www.google.com/search?q=death+grips+black+google+download\n",
        "file_type = \".mp3\" #@param [\".wav\", \".mp3\"] {allow-input: true}\n",
        "for mp3_filename in [f for f in os.listdir('data') if f.endswith(file_type)]:\n",
        "    mp3_filename = f'data/{mp3_filename}'\n",
        "    wav_filename = mp3_filename[:-4] + '.wav'\n",
        "    if not os.path.exists(wav_filename):\n",
        "        audio_clip = moviepy.editor.AudioFileClip(mp3_filename)\n",
        "        audio_clip.write_audiofile(wav_filename, fps=44100, nbytes=2, codec='pcm_s16le')\n",
        "    print(wav_filename)\n",
        "    track_name = os.path.basename(wav_filename)[:-4]\n",
        "    print(track_name)\n",
        "    rate, signal = wavfile.read(wav_filename)\n",
        "    signal = np.mean(signal, axis=1) # to mono\n",
        "    signal = np.abs(signal)\n",
        "    seed = signal.shape[0]\n",
        "    duration = signal.shape[0] / rate\n",
        "    frames = int(np.ceil(duration * fps))\n",
        "    samples_per_frame = signal.shape[0] / frames\n",
        "    audio[track_name] = np.zeros(frames, dtype=signal.dtype)\n",
        "    for frame in range(frames):\n",
        "        start = int(round(frame * samples_per_frame))\n",
        "        stop = int(round((frame + 1) * samples_per_frame))\n",
        "        audio[track_name][frame] = np.mean(signal[start:stop], axis=0)\n",
        "    audio[track_name] /= max(audio[track_name])\n",
        "\n",
        "for track in sorted(audio.keys()):\n",
        "    plt.figure(figsize=(8, 3))\n",
        "    plt.title(track)\n",
        "    plt.plot(audio[track])\n",
        "    plt.savefig(f'data/{track}.png')\n",
        "\n",
        "#@markdown Выбор модели / Change model\n",
        "network_pkl = 'gdrive:networks/stylegan2-ffhq-config-f.pkl' #@param [\"gdrive:networks/stylegan2-horse-config-f.pkl\", \"gdrive:networks/stylegan2-ffhq-config-f.pkl\", \"gdrive:networks/stylegan2-church-config-f.pkl\",\"gdrive:networks/stylegan2-cat-config-f.pkl\",\"gdrive:networks/stylegan2-car-config-f.pkl\"] {allow-input: true}\n",
        "_G, _D, Gs = pretrained_networks.load_networks(network_pkl)\n",
        "\n",
        "Gs_kwargs = dnnlib.EasyDict()\n",
        "Gs_kwargs.output_transform = dict(func=tflib.convert_images_to_uint8, nchw_to_nhwc=True)\n",
        "Gs_kwargs.randomize_noise = False\n",
        "Gs_syn_kwargs = dnnlib.EasyDict()\n",
        "Gs_syn_kwargs.output_transform = dict(func=tflib.convert_images_to_uint8, nchw_to_nhwc=True)\n",
        "Gs_syn_kwargs.randomize_noise = False\n",
        "Gs_syn_kwargs.minibatch_size = 4\n",
        "noise_vars = [var for name, var in Gs.components.synthesis.vars.items() if name.startswith('noise')]\n",
        "w_avg = Gs.get_var('dlatent_avg')\n",
        "\n",
        "def get_ws(n, frames, seed):\n",
        "    filename = f'data/ws_{n}_{frames}_{seed}.npy'\n",
        "    if not os.path.exists(filename):\n",
        "        src_ws = np.random.RandomState(seed).randn(n, 512)\n",
        "        ws = np.empty((frames, 512))\n",
        "        for i in range(512):\n",
        "            # FIXME: retarded\n",
        "            x = np.linspace(0, 3*frames, 3*len(src_ws), endpoint=False)\n",
        "            y = np.tile(src_ws[:, i], 3)\n",
        "            x_ = np.linspace(0, 3*frames, 3*frames, endpoint=False)\n",
        "            y_ = interp1d(x, y, kind='quadratic', fill_value='extrapolate')(x_)\n",
        "            ws[:, i] = y_[frames:2*frames]\n",
        "        np.save(filename, ws)\n",
        "    else:\n",
        "        ws = np.load(filename)\n",
        "    return ws\n",
        "\n",
        "def mix_styles(wa, wb, ivs):\n",
        "    w = np.copy(wa)\n",
        "    for i, v in ivs:\n",
        "        w[i] = wa[i] * (1 - v) + wb[i] * v\n",
        "    return w\n",
        "\n",
        "def normalize_vector(v):\n",
        "    return v * np.std(w_avg) / np.std(v) + np.mean(w_avg) - np.mean(v)\n",
        "\n",
        "def render_frame(t):\n",
        "    global base_index\n",
        "    frame = np.clip(np.int(np.round(t * fps)), 0, frames - 1)\n",
        "    Base_index_track = \"other\" #@param [\"other\", \"drums\", \"bass\",\"vocals\",\"piano\"] {allow-input: true}\n",
        "    base_index += base_speed * audio[Base_index_track][frame]**2 \n",
        "    base_w = base_ws[int(round(base_index)) % len(base_ws)]\n",
        "    base_w = np.tile(base_w, (18, 1))\n",
        "    psi_audio = \"bass\" #@param [\"other\", \"drums\", \"bass\",\"vocals\",\"piano\"] {allow-input: true}\n",
        "    psi = 0.5 + audio[psi_audio][frame] / 2\n",
        "    base_w = w_avg + (base_w - w_avg) * psi\n",
        "    mix_w = np.tile(mix_ws[frame], (18, 1))\n",
        "    mix_w = w_avg + (mix_w - w_avg) * 0.75\n",
        "    ranges = [range(0, 4), range(4, 8), range(8, 18)]\n",
        "    values1 = \"other\" #@param [\"other\", \"drums\", \"bass\",\"vocals\",\"piano\"] {allow-input: true}\n",
        "    values2 = \"bass\" #@param [\"other\", \"drums\", \"bass\",\"vocals\",\"piano\"] {allow-input: true}\n",
        "    values3 = \"drums\" #@param [\"other\", \"drums\", \"bass\",\"vocals\",\"piano\"] {allow-input: true}\n",
        "    values = [audio[track][frame] for track in [values1, values2,values3]]\n",
        "    w = mix_styles(base_w, mix_w, zip(ranges, values))\n",
        "    mouth_open_input = 'vocals' #@param [\"other\", \"drums\", \"bass\",\"vocals\",\"piano\"] {allow-input: true}\n",
        "    w += mouth_open * audio[mouth_open_input][frame] * 1.5\n",
        "    image = Gs.components.synthesis.run(np.stack([w]), **Gs_syn_kwargs)[0]\n",
        "    image = PIL.Image.fromarray(image).resize((size, size), PIL.Image.LANCZOS)\n",
        "    return np.array(image)\n",
        "\n",
        "\n",
        "rate, signal = wavfile.read('/content/stylegan2/data/vocals.wav')\n",
        "signal = np.mean(signal, axis=1) # to mono\n",
        "signal = np.abs(signal)\n",
        "seed = signal.shape[0]\n",
        "duration = signal.shape[0] / rate\n",
        "frames = int(np.ceil(duration * fps))\n",
        "samples_per_frame = signal.shape[0] / frames\n",
        "\n",
        "\n",
        "size = 1024 #@param {type: \"number\"}\n",
        "seconds = int(np.ceil(duration))\n",
        "resolution = 10 #@param {type: \"slider\", min: 1, max: 20}\n",
        "base_frames = resolution * frames\n",
        "base_ws = get_ws(seconds, base_frames, seed)\n",
        "print(audio)\n",
        "base_speed = base_frames / sum(audio['other']**2)\n",
        "base_index = 0\n",
        "mix_ws = get_ws(seconds, frames, seed + 1)\n",
        "# https://rolux.org/media/stylegan2/vectors/mouth_ratio.npy\n",
        "mouth_open = normalize_vector(-np.load('data/mouth_ratio.npy'))\n",
        "\n",
        "\n",
        "video_clip = moviepy.editor.VideoClip(render_frame, duration=duration)\n",
        "\n",
        "audio_clip_input = \"/content/stylegan2/data/rapchik.mp3\" #@param {type: \"string\"}\n",
        "\n",
        "mp4_filename = '/content/rapchik-video.mp4' #@param {type: \"string\"}\n",
        "\n",
        "from google.colab import files\n",
        "\n",
        "\n",
        "audio_clip = moviepy.editor.AudioFileClip(audio_clip_input)\n",
        "video_clip = video_clip.set_audio(audio_clip)\n",
        "video_clip.write_videofile(mp4_filename, fps=fps, codec='libx264', audio_codec='aac', bitrate='8M')\n",
        "# files.download(mp4_filename)"
      ],
      "execution_count": null,
      "outputs": []
    },
    {
      "cell_type": "code",
      "metadata": {
        "id": "RMnHR_VoYdCQ"
      },
      "source": [
        "cp /content/rapchik-video.mp4 /content/drive/My\\ Drive/stylegan/results/."
      ],
      "execution_count": 8,
      "outputs": []
    }
  ]
}