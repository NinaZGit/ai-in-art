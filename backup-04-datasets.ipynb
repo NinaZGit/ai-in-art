{
  "nbformat": 4,
  "nbformat_minor": 0,
  "metadata": {
    "colab": {
      "name": "data.ipynb",
      "provenance": [],
      "collapsed_sections": []
    },
    "kernelspec": {
      "name": "python3",
      "display_name": "Python 3"
    }
  },
  "cells": [
    {
      "cell_type": "markdown",
      "metadata": {
        "id": "gICC2uwF-cmu"
      },
      "source": [
        "# Данные для датасетов\n",
        "\n",
        "Подключаем Гугл Диск"
      ]
    },
    {
      "cell_type": "code",
      "metadata": {
        "id": "AFUvJRXi-WT6"
      },
      "source": [
        "from google.colab import drive\n",
        "drive.mount('/content/drive')"
      ],
      "execution_count": null,
      "outputs": []
    },
    {
      "cell_type": "markdown",
      "metadata": {
        "id": "QAKxNtq4CoYM"
      },
      "source": [
        "## Bing\n",
        "\n",
        "https://github.com/ultralytics/google-images-download\n",
        "\n",
        "Параметры https://google-images-download.readthedocs.io/en/latest/arguments.html\n",
        "\n",
        "### Установка"
      ]
    },
    {
      "cell_type": "code",
      "metadata": {
        "id": "HaYW0DE0CnAs"
      },
      "source": [
        "!apt-get update > /dev/null 2>&1\n",
        "!apt install chromium-chromedriver > /dev/null 2>&1\n",
        "!pip install -U selenium\n",
        "%cd /content/\n",
        "!git clone https://github.com/ultralytics/google-images-download bing"
      ],
      "execution_count": null,
      "outputs": []
    },
    {
      "cell_type": "code",
      "metadata": {
        "id": "cGt9RIyb_GRj"
      },
      "source": [
        "!mkdir -p /content/drive/My\\ Drive/stylegan/scrape/bing"
      ],
      "execution_count": null,
      "outputs": []
    },
    {
      "cell_type": "markdown",
      "metadata": {
        "id": "cI1UeE3GGJDp"
      },
      "source": [
        "**Параметры**\n",
        "\n",
        "`search` - поисковый запрос\n",
        "\n",
        "`limit` - ограничение на количество скачиваемых файлов"
      ]
    },
    {
      "cell_type": "code",
      "metadata": {
        "id": "jypH2VLrC6Ll"
      },
      "source": [
        "%cd /content/drive/My\\ Drive/stylegan/scrape/bing\n",
        "!python /content/bing/bing_scraper.py --search 'robots' --limit 10 --download --chromedriver 'chromedriver'"
      ],
      "execution_count": null,
      "outputs": []
    },
    {
      "cell_type": "markdown",
      "metadata": {
        "id": "jG2-W6NgKB6a"
      },
      "source": [
        "## Обработка"
      ]
    },
    {
      "cell_type": "code",
      "metadata": {
        "id": "-0w5UXWDNm-H"
      },
      "source": [
        "import os\n",
        "\n",
        "input_dir = '/content/drive/My Drive/stylegan/scrape/bing/images/robots' \n",
        "processed_dir = '/content/drive/My Drive/stylegan/data/robots' \n",
        "if not os.path.exists(processed_dir):\n",
        "    os.makedirs(processed_dir)"
      ],
      "execution_count": null,
      "outputs": []
    },
    {
      "cell_type": "markdown",
      "metadata": {
        "id": "iAGpN97cNMoB"
      },
      "source": [
        "Запускаем функцию, которая удалит все файлы, которые нейросеть не может загрузить"
      ]
    },
    {
      "cell_type": "code",
      "metadata": {
        "id": "rPvpk9MrNGuW"
      },
      "source": [
        "from fastai.vision import verify_images\n",
        "verify_images(processed_dir, delete=True)"
      ],
      "execution_count": null,
      "outputs": []
    },
    {
      "cell_type": "markdown",
      "metadata": {
        "id": "jgMWg_VbNhom"
      },
      "source": [
        "Добавляем функции:\n",
        "\n",
        "`resize` - изменяет размер изображений в папке `in_dir` на `res` (по умолчанию 1024х1024) и сохраняет измененные в папку `out_dir`\n",
        "\n",
        "`crop` - обрезает изображения в папке `in_dir` до квадрата, меняет размер на `res` (по умолчанию 1024х1024) и сохраняет измененные в папку `out_dir`"
      ]
    },
    {
      "cell_type": "code",
      "metadata": {
        "id": "pYuO80I-KGS2"
      },
      "source": [
        "import os\n",
        "from PIL import Image\n",
        "from tqdm import tqdm\n",
        "\n",
        "def resize(in_dir, out_dir, res=1024):\n",
        "    files = os.listdir(in_dir)\n",
        "    for i in tqdm(range(len(files))):\n",
        "      if 'DS_Store' in files[i]:\n",
        "        continue\n",
        "      im = Image.open(f\"{in_dir}/{files[i]}\")\n",
        "      imResize = im.resize((res,res), Image.ANTIALIAS)\n",
        "      imResize.save(f'{out_dir}/{i:6d}.png' , 'PNG')\n",
        "\n",
        "def crop(in_dir, out_dir, res=1024):\n",
        "    files = os.listdir(in_dir)\n",
        "    for i in tqdm(range(len(files))):\n",
        "      if 'DS_Store' in files[i]:\n",
        "        continue\n",
        "      im = Image.open(f\"{in_dir}/{files[i]}\")\n",
        "      width, height = im.size\n",
        "      new_res = min(width, height)\n",
        "      left = (width - new_res)/2\n",
        "      top = (height - new_res)/2\n",
        "      right = (width + new_res)/2\n",
        "      bottom = (height + new_res)/2\n",
        "\n",
        "      im = im.crop((left, top, right, bottom))\n",
        "      imResize = im.resize((res,res), Image.ANTIALIAS)\n",
        "      imResize.save(f'{out_dir}/{i:6d}.png' , 'PNG')"
      ],
      "execution_count": null,
      "outputs": []
    },
    {
      "cell_type": "code",
      "metadata": {
        "id": "o_SDy-XzLl7a"
      },
      "source": [
        "crop(input_dir, processed_dir, 256)"
      ],
      "execution_count": null,
      "outputs": []
    }
  ]
}