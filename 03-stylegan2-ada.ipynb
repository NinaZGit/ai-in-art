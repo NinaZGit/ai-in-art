{
  "nbformat": 4,
  "nbformat_minor": 0,
  "metadata": {
    "colab": {
      "name": "stylegan2-ada.ipynb",
      "provenance": [],
      "collapsed_sections": [
        "r5zjQYlAgUTW"
      ],
      "toc_visible": true
    },
    "kernelspec": {
      "name": "python3",
      "display_name": "Python 3"
    },
    "accelerator": "GPU"
  },
  "cells": [
    {
      "cell_type": "markdown",
      "metadata": {
        "id": "LdWWSVywULkX"
      },
      "source": [
        "# StyleGAN2-ADA"
      ]
    },
    {
      "cell_type": "markdown",
      "metadata": {
        "id": "IVCiz2dOUR-c"
      },
      "source": [
        "## Установка"
      ]
    },
    {
      "cell_type": "code",
      "metadata": {
        "id": "Wprx265RUGS7"
      },
      "source": [
        "%tensorflow_version 1.x\n",
        "import tensorflow as tf\n",
        "\n",
        "# Download the code\n",
        "!git clone https://github.com/NVlabs/stylegan2-ada.git\n",
        "%cd stylegan2-ada\n",
        "!nvcc test_nvcc.cu -o test_nvcc -run\n",
        "\n",
        "print('Tensorflow version: {}'.format(tf.__version__) )\n",
        "!nvidia-smi -L\n",
        "print('GPU Identified at: {}'.format(tf.test.gpu_device_name()))"
      ],
      "execution_count": null,
      "outputs": []
    },
    {
      "cell_type": "code",
      "metadata": {
        "id": "vxNMLRNHeYME"
      },
      "source": [
        "import argparse\n",
        "import numpy as np\n",
        "import PIL.Image\n",
        "import dnnlib\n",
        "import dnnlib.tflib as tflib\n",
        "import re\n",
        "import sys\n",
        "from io import BytesIO\n",
        "import IPython.display\n",
        "import numpy as np\n",
        "from math import ceil\n",
        "from PIL import Image, ImageDraw\n",
        "import imageio\n",
        "import os\n",
        "import pickle\n",
        "from google.colab import files"
      ],
      "execution_count": null,
      "outputs": []
    },
    {
      "cell_type": "markdown",
      "metadata": {
        "id": "r5zjQYlAgUTW"
      },
      "source": [
        "### Добавляем функции для генерации изображений"
      ]
    },
    {
      "cell_type": "code",
      "metadata": {
        "id": "2gfigaTsgZqe"
      },
      "source": [
        "# Useful utility functions...\n",
        "\n",
        "# Generates a list of images, based on a list of latent vectors (Z), and a list (or a single constant) of truncation_psi's.\n",
        "def generate_images_in_w_space(dlatents, truncation_psi):\n",
        "    Gs_kwargs = dnnlib.EasyDict()\n",
        "    Gs_kwargs.output_transform = dict(func=tflib.convert_images_to_uint8, nchw_to_nhwc=True)\n",
        "    Gs_kwargs.randomize_noise = False\n",
        "    Gs_kwargs.truncation_psi = truncation_psi\n",
        "    dlatent_avg = Gs.get_var('dlatent_avg') # [component]\n",
        "\n",
        "    imgs = []\n",
        "    for row, dlatent in log_progress(enumerate(dlatents), name = \"Generating images\"):\n",
        "        #row_dlatents = (dlatent[np.newaxis] - dlatent_avg) * np.reshape(truncation_psi, [-1, 1, 1]) + dlatent_avg\n",
        "        dl = (dlatent-dlatent_avg)*truncation_psi   + dlatent_avg\n",
        "        row_images = Gs.components.synthesis.run(dlatent,  **Gs_kwargs)\n",
        "        imgs.append(PIL.Image.fromarray(row_images[0], 'RGB'))\n",
        "    return imgs       \n",
        "\n",
        "def generate_images(zs, truncation_psi):\n",
        "    Gs_kwargs = dnnlib.EasyDict()\n",
        "    Gs_kwargs.output_transform = dict(func=tflib.convert_images_to_uint8, nchw_to_nhwc=True)\n",
        "    Gs_kwargs.randomize_noise = False\n",
        "    if not isinstance(truncation_psi, list):\n",
        "        truncation_psi = [truncation_psi] * len(zs)\n",
        "        \n",
        "    imgs = []\n",
        "    for z_idx, z in log_progress(enumerate(zs), size = len(zs), name = \"Generating images\"):\n",
        "        Gs_kwargs.truncation_psi = truncation_psi[z_idx]\n",
        "        noise_rnd = np.random.RandomState(1) # fix noise\n",
        "        tflib.set_vars({var: noise_rnd.randn(*var.shape.as_list()) for var in noise_vars}) # [height, width]\n",
        "        images = Gs.run(z, None, **Gs_kwargs) # [minibatch, height, width, channel]\n",
        "        imgs.append(PIL.Image.fromarray(images[0], 'RGB'))\n",
        "    return imgs\n",
        "\n",
        "def generate_zs_from_seeds(seeds):\n",
        "    zs = []\n",
        "    for seed_idx, seed in enumerate(seeds):\n",
        "        rnd = np.random.RandomState(seed)\n",
        "        z = rnd.randn(1, *Gs.input_shape[1:]) # [minibatch, component]\n",
        "        zs.append(z)\n",
        "    return zs\n",
        "\n",
        "# Generates a list of images, based on a list of seed for latent vectors (Z), and a list (or a single constant) of truncation_psi's.\n",
        "def generate_images_from_seeds(seeds, truncation_psi):\n",
        "    return generate_images(generate_zs_from_seeds(seeds), truncation_psi)\n",
        "\n",
        "def saveImgs(imgs, location):\n",
        "  for idx, img in log_progress(enumerate(imgs), size = len(imgs), name=\"Saving images\"):\n",
        "    file = location+ str(idx) + \".png\"\n",
        "    img.save(file)\n",
        "\n",
        "def imshow(a, format='png', jpeg_fallback=True):\n",
        "  a = np.asarray(a, dtype=np.uint8)\n",
        "  str_file = BytesIO()\n",
        "  PIL.Image.fromarray(a).save(str_file, format)\n",
        "  im_data = str_file.getvalue()\n",
        "  try:\n",
        "    disp = IPython.display.display(IPython.display.Image(im_data))\n",
        "  except IOError:\n",
        "    if jpeg_fallback and format != 'jpeg':\n",
        "      print ('Warning: image was too large to display in format \"{}\"; '\n",
        "             'trying jpeg instead.').format(format)\n",
        "      return imshow(a, format='jpeg')\n",
        "    else:\n",
        "      raise\n",
        "  return disp\n",
        "\n",
        "def showarray(a, fmt='png'):\n",
        "    a = np.uint8(a)\n",
        "    f = StringIO()\n",
        "    PIL.Image.fromarray(a).save(f, fmt)\n",
        "    IPython.display.display(IPython.display.Image(data=f.getvalue()))\n",
        "\n",
        "        \n",
        "def clamp(x, minimum, maximum):\n",
        "    return max(minimum, min(x, maximum))\n",
        "    \n",
        "def drawLatent(image,latents,x,y,x2,y2, color=(255,0,0,100)):\n",
        "  buffer = PIL.Image.new('RGBA', image.size, (0,0,0,0))\n",
        "   \n",
        "  draw = ImageDraw.Draw(buffer)\n",
        "  cy = (y+y2)/2\n",
        "  draw.rectangle([x,y,x2,y2],fill=(255,255,255,180), outline=(0,0,0,180))\n",
        "  for i in range(len(latents)):\n",
        "    mx = x + (x2-x)*(float(i)/len(latents))\n",
        "    h = (y2-y)*latents[i]*0.1\n",
        "    h = clamp(h,cy-y2,y2-cy)\n",
        "    draw.line((mx,cy,mx,cy+h),fill=color)\n",
        "  return PIL.Image.alpha_composite(image,buffer)\n",
        "             \n",
        "  \n",
        "def createImageGrid(images, scale=0.25, rows=1):\n",
        "   w,h = images[0].size\n",
        "   w = int(w*scale)\n",
        "   h = int(h*scale)\n",
        "   height = rows*h\n",
        "   cols = ceil(len(images) / rows)\n",
        "   width = cols*w\n",
        "   canvas = PIL.Image.new('RGBA', (width,height), 'white')\n",
        "   for i,img in enumerate(images):\n",
        "     img = img.resize((w,h), PIL.Image.ANTIALIAS)\n",
        "     canvas.paste(img, (w*(i % cols), h*(i // cols))) \n",
        "   return canvas\n",
        "\n",
        "def convertZtoW(latent, truncation_psi=0.7, truncation_cutoff=9):\n",
        "  dlatent = Gs.components.mapping.run(latent, None) # [seed, layer, component]\n",
        "  dlatent_avg = Gs.get_var('dlatent_avg') # [component]\n",
        "  for i in range(truncation_cutoff):\n",
        "    dlatent[0][i] = (dlatent[0][i]-dlatent_avg)*truncation_psi + dlatent_avg\n",
        "    \n",
        "  return dlatent\n",
        "\n",
        "def interpolate(zs, steps):\n",
        "   out = []\n",
        "   for i in range(len(zs)-1):\n",
        "    for index in range(steps):\n",
        "     fraction = index/float(steps) \n",
        "     out.append(zs[i+1]*fraction + zs[i]*(1-fraction))\n",
        "   return out\n",
        "\n",
        "# Taken from https://github.com/alexanderkuk/log-progress\n",
        "def log_progress(sequence, every=1, size=None, name='Items'):\n",
        "    from ipywidgets import IntProgress, HTML, VBox\n",
        "    from IPython.display import display\n",
        "\n",
        "    is_iterator = False\n",
        "    if size is None:\n",
        "        try:\n",
        "            size = len(sequence)\n",
        "        except TypeError:\n",
        "            is_iterator = True\n",
        "    if size is not None:\n",
        "        if every is None:\n",
        "            if size <= 200:\n",
        "                every = 1\n",
        "            else:\n",
        "                every = int(size / 200)     # every 0.5%\n",
        "    else:\n",
        "        assert every is not None, 'sequence is iterator, set every'\n",
        "\n",
        "    if is_iterator:\n",
        "        progress = IntProgress(min=0, max=1, value=1)\n",
        "        progress.bar_style = 'info'\n",
        "    else:\n",
        "        progress = IntProgress(min=0, max=size, value=0)\n",
        "    label = HTML()\n",
        "    box = VBox(children=[label, progress])\n",
        "    display(box)\n",
        "\n",
        "    index = 0\n",
        "    try:\n",
        "        for index, record in enumerate(sequence, 1):\n",
        "            if index == 1 or index % every == 0:\n",
        "                if is_iterator:\n",
        "                    label.value = '{name}: {index} / ?'.format(\n",
        "                        name=name,\n",
        "                        index=index\n",
        "                    )\n",
        "                else:\n",
        "                    progress.value = index\n",
        "                    label.value = u'{name}: {index} / {size}'.format(\n",
        "                        name=name,\n",
        "                        index=index,\n",
        "                        size=size\n",
        "                    )\n",
        "            yield record\n",
        "    except:\n",
        "        progress.bar_style = 'danger'\n",
        "        raise\n",
        "    else:\n",
        "        progress.bar_style = 'success'\n",
        "        progress.value = index\n",
        "        label.value = \"{name}: {index}\".format(\n",
        "            name=name,\n",
        "            index=str(index or '?')\n",
        "        )\n",
        "\n"
      ],
      "execution_count": null,
      "outputs": []
    },
    {
      "cell_type": "markdown",
      "metadata": {
        "id": "LJTAt2E0YOV0"
      },
      "source": [
        "## Подключение Гугл.Диска\n",
        "\n",
        "Подключаем Диск, нужно будет скопировать и вставить код"
      ]
    },
    {
      "cell_type": "code",
      "metadata": {
        "id": "q8pRlyqnYR67"
      },
      "source": [
        "from google.colab import drive\n",
        "drive.mount('/content/drive')"
      ],
      "execution_count": null,
      "outputs": []
    },
    {
      "cell_type": "markdown",
      "metadata": {
        "id": "kQQnOPgraHCy"
      },
      "source": [
        "Создаем на диске папку, куда будем сохранять наши модели и результаты. \n",
        "\n",
        "Эту ячейку нужно запустить только один раз. Когда вы решите снова воспользоваться этим ноутбуком, ячейку можно уже будет не запускать, т.к. папки с диска никуда не исчезнут."
      ]
    },
    {
      "cell_type": "code",
      "metadata": {
        "id": "auo4aDDMZDGv"
      },
      "source": [
        "!mkdir /content/drive/My\\ Drive/stylegan\n",
        "!mkdir /content/drive/My\\ Drive/stylegan/models\n",
        "!mkdir /content/drive/My\\ Drive/stylegan/results"
      ],
      "execution_count": null,
      "outputs": []
    },
    {
      "cell_type": "markdown",
      "metadata": {
        "id": "AT7i26d7UVl2"
      },
      "source": [
        "## Скачиваем натренированные модели\n",
        "\n",
        "| Название | Разрешение | Эпохи | Ссылка |\n",
        "|---|---|---|---|\n",
        "| **Лица** | 1024x1024 | 15000 | http://d36zk2xti64re0.cloudfront.net/stylegan2/networks/stylegan2-ffhq-config-f.pkl |\n",
        "| **Машины** | 512x384 | 15000 | http://d36zk2xti64re0.cloudfront.net/stylegan2/networks/stylegan2-car-config-f.pkl |\n",
        "| **Лошади** | 256x256 | 15000 | http://d36zk2xti64re0.cloudfront.net/stylegan2/networks/stylegan2-horse-config-f.pkl |\n",
        "| **Коты** | 256x256 | 15000 | https://d36zk2xti64re0.cloudfront.net/stylegan2/networks/stylegan2-cat-config-f.pkl |\n",
        "| **Церкви** | 256x256 | 15000 | https://d36zk2xti64re0.cloudfront.net/stylegan2/networks/stylegan2-church-config-f.pkl |\n",
        "| **ImageNet** | 512x512 | 533504 | https://battle.shawwn.com/sdc/stylegan2-imagenet-512/model.ckpt-533504.pkl |\n",
        "\n",
        "\n",
        "\n",
        "Эти датасеты надо вручную скачать и сложить к себе на Гугл.Диск (позже переложу куда-то):\n",
        "\n",
        "<strike> **Аниме** 512x512 : https://mega.nz/#!PeIi2ayb!xoRtjTXyXuvgDxSsSMn-cOh-Zux9493zqdxwVMaAzp4\n",
        "\n",
        "**Микроорганизмы** 1024x1024 : https://mega.nz/#!PbgzWTZT!JbVpqgMU7AOg-sQUoG1BDepuwKtgAsLgjd4YwlTXlpc\n",
        "\n",
        "**Абстрактное искусство** 1024x1024 : https://drive.google.com/uc?id=1YzZemZAp7BVW701_BZ7uabJWJJaS2g7v </strike> \n",
        "\n"
      ]
    },
    {
      "cell_type": "code",
      "metadata": {
        "id": "lAehwk5lYMVq"
      },
      "source": [
        "%cd /content/drive/My\\ Drive/stylegan/models/\n",
        "!wget http://d36zk2xti64re0.cloudfront.net/stylegan2/networks/stylegan2-ffhq-config-f.pkl"
      ],
      "execution_count": null,
      "outputs": []
    },
    {
      "cell_type": "markdown",
      "metadata": {
        "id": "WvPR3Qn6dumc"
      },
      "source": [
        "## Загружаем модели в нейросеть"
      ]
    },
    {
      "cell_type": "code",
      "metadata": {
        "id": "1HixfcDkd1lg"
      },
      "source": [
        "%cd /content/stylegan2-ada"
      ],
      "execution_count": null,
      "outputs": []
    },
    {
      "cell_type": "code",
      "metadata": {
        "id": "f_wpVuAnd-lm"
      },
      "source": [
        "dnnlib.tflib.init_tf()\n",
        "\n",
        "# Здесь указываем какую модель мы хотим использовать для генерации!\n",
        "network_pkl = '/content/drive/My Drive/stylegan/models/stylegan2-ffhq-config-f.pkl'\n",
        " \n",
        "print('Загружаем модель \"%s\"...' % network_pkl)\n",
        "with dnnlib.util.open_url(network_pkl) as fp:\n",
        "    _G, _D, Gs = pickle.load(fp)\n",
        "noise_vars = [var for name, var in Gs.components.synthesis.vars.items() if name.startswith('noise')]"
      ],
      "execution_count": null,
      "outputs": []
    },
    {
      "cell_type": "markdown",
      "metadata": {
        "id": "gurqsflBf1m6"
      },
      "source": [
        "## Генерация"
      ]
    },
    {
      "cell_type": "markdown",
      "metadata": {
        "id": "Br20WB1WgyYj"
      },
      "source": [
        "### Одно изображение"
      ]
    },
    {
      "cell_type": "code",
      "metadata": {
        "id": "oPqIpV8sgfKX"
      },
      "source": [
        "imshow(generate_images_from_seeds(np.random.randint(4294967295, size=1), truncation_psi=0.5)[0])"
      ],
      "execution_count": null,
      "outputs": []
    },
    {
      "cell_type": "markdown",
      "metadata": {
        "id": "dEUz1hb4g2Td"
      },
      "source": [
        "### Сетка изображений\n",
        "\n",
        "```num_images``` - количество изображений\n",
        "\n",
        "```trunc_psi``` - разнообразие изображений (0 - усреднённое значение, 1 максимальное разнообразие)\n",
        "\n",
        "```scale``` - масштаб изображений\n",
        "\n",
        "```rows``` - количество строк в сетке"
      ]
    },
    {
      "cell_type": "code",
      "metadata": {
        "id": "2AWzf7txg9bB"
      },
      "source": [
        "num_images = 9\n",
        "trunc_psi= 0.7\n",
        "\n",
        "scale = 0.7\n",
        "rows = 3\n",
        "\n",
        "seeds = np.random.randint(4294967295, size=num_images)\n",
        "imshow(createImageGrid(generate_images_from_seeds(seeds, trunc_psi), scale , rows))"
      ],
      "execution_count": null,
      "outputs": []
    },
    {
      "cell_type": "markdown",
      "metadata": {
        "id": "WCFs_w7ehQlq"
      },
      "source": [
        "### Несколько изображений\n",
        "\n",
        "Генерируем несколько изображений и сохраняем их в папку на Гугл Диске\n",
        "\n",
        "```num_images``` - количество изображений\n",
        "\n",
        "```trunc_psi``` - разнообразие изображений (0 - усреднённое значение, 1 максимальное разнообразие)\n",
        "\n",
        "```location``` - папка с результатами"
      ]
    },
    {
      "cell_type": "code",
      "metadata": {
        "id": "DBo2N3t1mciv"
      },
      "source": [
        "# создаем папку для результата\n",
        "!mkdir /content/drive/My\\ Drive/stylegan/results/01"
      ],
      "execution_count": null,
      "outputs": []
    },
    {
      "cell_type": "code",
      "metadata": {
        "id": "aLRVRXRPj5Ct"
      },
      "source": [
        "num_images = 20\n",
        "trunc_psi= 0.7\n",
        "location = '/content/drive/My Drive/stylegan/results/01/' # важно чтоб в конце стоял /\n",
        "\n",
        "seeds = np.random.randint(4294967295, size=num_images)\n",
        "\n",
        "imgs = generate_images_from_seeds(seeds, trunc_psi)\n",
        "\n",
        "saveImgs(imgs, location)"
      ],
      "execution_count": null,
      "outputs": []
    },
    {
      "cell_type": "markdown",
      "metadata": {
        "id": "ExxfjhPQiZZX"
      },
      "source": [
        "### Интерполяция между двумя изображениями\n",
        "\n",
        "```number_of_steps``` - количество шагов интерполяции\n",
        "\n",
        "```trunc_psi``` - разнообразие изображений (0 - усреднённое значение, 1 максимальное разнообразие)\n",
        "\n",
        "```scale``` - масштаб изображений\n",
        "\n",
        "```rows``` - количество строк в сетке\n",
        "\n",
        "```seed1, seed2``` - \"адреса\" изображений (сейчас случайные числа, но можно задать и какие-то конкретные)"
      ]
    },
    {
      "cell_type": "code",
      "metadata": {
        "id": "LE579yLmieae"
      },
      "source": [
        "number_of_steps = 10\n",
        "trunc_psi = 0.5\n",
        "\n",
        "scale = 0.4\n",
        "rows = 1\n",
        "\n",
        "seed1 = np.random.randint(4294967295, size=1)\n",
        "seed2 = np.random.randint(4294967295, size=1)\n",
        "\n",
        "\n",
        "\n",
        "zs = generate_zs_from_seeds([seed1, seed2])\n",
        "print(seed1, seed2)\n",
        "\n",
        "\n",
        "imgs = generate_images(interpolate(zs,number_of_steps), trunc_psi)\n",
        "\n",
        "imshow(createImageGrid(imgs, scale , rows))"
      ],
      "execution_count": null,
      "outputs": []
    },
    {
      "cell_type": "markdown",
      "metadata": {
        "id": "foJ6qZSrnkZt"
      },
      "source": [
        "### Видео интерполяция\n",
        "\n",
        "```num_images``` - количество изображений\n",
        "\n",
        "```number_of_steps``` - количество шагов интерполяции\n",
        "\n",
        "```trunc_psi``` - разнообразие изображений (0 - усреднённое значение, 1 максимальное разнообразие)\n",
        "\n",
        "```movie_name``` - путь, куда мы сохраняем наше видео"
      ]
    },
    {
      "cell_type": "code",
      "metadata": {
        "id": "AHkOvy3P5IS1"
      },
      "source": [
        "# создаем папку для результата\n",
        "!mkdir /content/drive/My\\ Drive/stylegan/results/02"
      ],
      "execution_count": null,
      "outputs": []
    },
    {
      "cell_type": "code",
      "metadata": {
        "id": "ZYb3HPuJntYv"
      },
      "source": [
        "num_images = 20\n",
        "number_of_steps = 10\n",
        "trunc_psi = 0.5\n",
        "movie_name = \"/content/drive/My Drive/stylegan/results/02/interpolate.mp4\"\n",
        "\n",
        "\n",
        "seeds = list(np.random.randint(4294967295, size=num_images))\n",
        "seeds = seeds + [seeds[0]]\n",
        "zs = generate_zs_from_seeds(seeds)\n",
        "\n",
        "\n",
        "imgs = generate_images(interpolate(zs,number_of_steps), trunc_psi)\n",
        "\n",
        "with imageio.get_writer(movie_name, mode='I') as writer:\n",
        "    for image in log_progress(list(imgs), name = \"Creating animation\"):\n",
        "        writer.append_data(np.array(image))"
      ],
      "execution_count": null,
      "outputs": []
    }
  ]
}