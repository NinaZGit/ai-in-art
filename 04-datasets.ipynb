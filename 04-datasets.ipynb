{
  "nbformat": 4,
  "nbformat_minor": 0,
  "metadata": {
    "colab": {
      "name": "data.ipynb",
      "provenance": [],
      "collapsed_sections": []
    },
    "kernelspec": {
      "name": "python3",
      "display_name": "Python 3"
    },
    "accelerator": "GPU"
  },
  "cells": [
    {
      "cell_type": "markdown",
      "metadata": {
        "id": "gICC2uwF-cmu"
      },
      "source": [
        "# Данные для датасетов\n",
        "\n",
        "Подключаем Гугл Диск"
      ]
    },
    {
      "cell_type": "code",
      "metadata": {
        "id": "AFUvJRXi-WT6",
        "outputId": "9f57a53a-573b-4176-9616-53558c7e72e6",
        "colab": {
          "base_uri": "https://localhost:8080/"
        }
      },
      "source": [
        "\n",
        "from google.colab import drive\n",
        "drive.mount('/content/drive')"
      ],
      "execution_count": 5,
      "outputs": [
        {
          "output_type": "stream",
          "text": [
            "Mounted at /content/drive\n"
          ],
          "name": "stdout"
        }
      ]
    },
    {
      "cell_type": "markdown",
      "metadata": {
        "id": "QAKxNtq4CoYM"
      },
      "source": [
        "## Bing\n",
        "\n",
        "https://github.com/ultralytics/google-images-download\n",
        "\n",
        "Параметры https://google-images-download.readthedocs.io/en/latest/arguments.html\n",
        "\n",
        "### Установка"
      ]
    },
    {
      "cell_type": "code",
      "metadata": {
        "id": "HaYW0DE0CnAs",
        "outputId": "19438170-c704-4729-91e3-5a13d1752bf0",
        "colab": {
          "base_uri": "https://localhost:8080/"
        }
      },
      "source": [
        "!apt-get update > /dev/null 2>&1\n",
        "!apt install chromium-chromedriver > /dev/null 2>&1\n",
        "!pip install -U selenium\n",
        "%cd /content/\n",
        "!git clone https://github.com/ultralytics/google-images-download bing"
      ],
      "execution_count": 4,
      "outputs": [
        {
          "output_type": "stream",
          "text": [
            "Collecting selenium\n",
            "\u001b[?25l  Downloading https://files.pythonhosted.org/packages/80/d6/4294f0b4bce4de0abf13e17190289f9d0613b0a44e5dd6a7f5ca98459853/selenium-3.141.0-py2.py3-none-any.whl (904kB)\n",
            "\u001b[K     |████████████████████████████████| 911kB 5.0MB/s \n",
            "\u001b[?25hRequirement already satisfied, skipping upgrade: urllib3 in /usr/local/lib/python3.6/dist-packages (from selenium) (1.24.3)\n",
            "Installing collected packages: selenium\n",
            "Successfully installed selenium-3.141.0\n",
            "/content\n",
            "Cloning into 'bing'...\n",
            "remote: Enumerating objects: 14, done.\u001b[K\n",
            "remote: Counting objects: 100% (14/14), done.\u001b[K\n",
            "remote: Compressing objects: 100% (11/11), done.\u001b[K\n",
            "remote: Total 729 (delta 4), reused 11 (delta 3), pack-reused 715\u001b[K\n",
            "Receiving objects: 100% (729/729), 313.34 KiB | 11.60 MiB/s, done.\n",
            "Resolving deltas: 100% (404/404), done.\n"
          ],
          "name": "stdout"
        }
      ]
    },
    {
      "cell_type": "code",
      "metadata": {
        "id": "cGt9RIyb_GRj"
      },
      "source": [
        "!mkdir -p /content/drive/My\\ Drive/stylegan/scrape/bing"
      ],
      "execution_count": null,
      "outputs": []
    },
    {
      "cell_type": "markdown",
      "metadata": {
        "id": "cI1UeE3GGJDp"
      },
      "source": [
        "**Параметры**\n",
        "\n",
        "`search` - поисковый запрос\n",
        "\n",
        "`limit` - ограничение на количество скачиваемых файлов"
      ]
    },
    {
      "cell_type": "code",
      "metadata": {
        "id": "jypH2VLrC6Ll",
        "outputId": "ef65cf71-9504-4c37-fab8-36fff46627f3",
        "colab": {
          "base_uri": "https://localhost:8080/"
        }
      },
      "source": [
        "%cd /content/drive/My\\ Drive/stylegan/scrape/bing\n",
        "!python /content/bing/bing_scraper.py --search 'monty python' --limit 10 --download --chromedriver 'chromedriver'"
      ],
      "execution_count": 6,
      "outputs": [
        {
          "output_type": "stream",
          "text": [
            "/content/drive/My Drive/stylegan/scrape/bing\n",
            "Searching for https://www.bing.com/images/search?q=monty%20python\n",
            "Downloading HTML... 3615738 elements: 100% 30/30 [00:26<00:00,  1.15it/s]\n",
            "Downloading images...\n",
            "1/10 https://www.syfy.com/sites/syfy/files/styles/1200x680/public/2018/03/monty-python.jpg \n",
            "2/10 http://www.liveforfilm.com/wp-content/uploads/2019/06/monty-python.jpg \n",
            "3/10 https://d13ezvd6yrslxm.cloudfront.net/wp/wp-content/images/Monty-Pythons-Flying-Circus.jpg \n",
            "4/10 https://secure.i.telegraph.co.uk/multimedia/archive/02757/monty_python_2757869k.jpg \n",
            "5/10 https://assets.nst.com.my/images/articles/MONTYPYTHON-AmonNNIVERSARY__1570289712.jpg \n",
            "6/10 https://images2.minutemediacdn.com/image/upload/c_fill,g_auto,h_1248,w_2220/v1555434576/shape/mentalfloss/python_lead.jpg \n",
            "7/10 https://pixel.nymag.com/imgs/daily/vulture/2018/08/07/07-monty-python.w700.h700.jpg \n",
            "8/10 URLError on an image...trying next one... Error: HTTP Error 401: Unauthorized - missing signature\n",
            "8/10 http://highlighthollywood.com/wp-content/uploads/2020/01/monty-python-terry-jones-dies-scaled.jpg \n",
            "9/10 https://static3.cbrimages.com/wordpress/wp-content/uploads/2018/08/monty-python.jpg \n",
            "10/10 https://cdn.extra.ie/wp-content/uploads/2020/01/22131710/monty-python.jpg \n",
            "Done with 1 errors in 34.3s. All images saved to /content/drive/My Drive/stylegan/scrape/bing/images\n",
            "\n"
          ],
          "name": "stdout"
        }
      ]
    },
    {
      "cell_type": "markdown",
      "metadata": {
        "id": "jG2-W6NgKB6a"
      },
      "source": [
        "## Обработка"
      ]
    },
    {
      "cell_type": "code",
      "metadata": {
        "id": "-0w5UXWDNm-H"
      },
      "source": [
        "import os\n",
        "\n",
        "input_dir = '/content/drive/My Drive/stylegan/scrape/bing/images/robots' \n",
        "processed_dir = '/content/drive/My Drive/stylegan/data/robots' \n",
        "if not os.path.exists(processed_dir):\n",
        "    os.makedirs(processed_dir)"
      ],
      "execution_count": null,
      "outputs": []
    },
    {
      "cell_type": "markdown",
      "metadata": {
        "id": "iAGpN97cNMoB"
      },
      "source": [
        "Запускаем функцию, которая удалит все файлы, которые нейросеть не может загрузить"
      ]
    },
    {
      "cell_type": "code",
      "metadata": {
        "id": "rPvpk9MrNGuW"
      },
      "source": [
        "from fastai.vision import verify_images\n",
        "verify_images(processed_dir, delete=True)"
      ],
      "execution_count": null,
      "outputs": []
    },
    {
      "cell_type": "markdown",
      "metadata": {
        "id": "jgMWg_VbNhom"
      },
      "source": [
        "Добавляем функции:\n",
        "\n",
        "`resize` - изменяет размер изображений в папке `in_dir` на `res` (по умолчанию 1024х1024) и сохраняет измененные в папку `out_dir`\n",
        "\n",
        "`crop` - обрезает изображения в папке `in_dir` до квадрата, меняет размер на `res` (по умолчанию 1024х1024) и сохраняет измененные в папку `out_dir`"
      ]
    },
    {
      "cell_type": "code",
      "metadata": {
        "id": "pYuO80I-KGS2"
      },
      "source": [
        "import os\n",
        "from PIL import Image\n",
        "from tqdm import tqdm\n",
        "\n",
        "def resize(in_dir, out_dir, res=1024):\n",
        "    files = os.listdir(in_dir)\n",
        "    for i in tqdm(range(len(files))):\n",
        "      if 'DS_Store' in files[i]:\n",
        "        continue\n",
        "      im = Image.open(f\"{in_dir}/{files[i]}\")\n",
        "      imResize = im.resize((res,res), Image.ANTIALIAS)\n",
        "      imResize.save(f'{out_dir}/{i:6d}.png' , 'PNG')\n",
        "\n",
        "def crop(in_dir, out_dir, res=1024):\n",
        "    files = os.listdir(in_dir)\n",
        "    for i in tqdm(range(len(files))):\n",
        "      if 'DS_Store' in files[i]:\n",
        "        continue\n",
        "      im = Image.open(f\"{in_dir}/{files[i]}\")\n",
        "      width, height = im.size\n",
        "      new_res = min(width, height)\n",
        "      left = (width - new_res)/2\n",
        "      top = (height - new_res)/2\n",
        "      right = (width + new_res)/2\n",
        "      bottom = (height + new_res)/2\n",
        "\n",
        "      im = im.crop((left, top, right, bottom))\n",
        "      imResize = im.resize((res,res), Image.ANTIALIAS)\n",
        "      imResize.save(f'{out_dir}/{i:6d}.png' , 'PNG')"
      ],
      "execution_count": null,
      "outputs": []
    },
    {
      "cell_type": "code",
      "metadata": {
        "id": "o_SDy-XzLl7a"
      },
      "source": [
        "crop(input_dir, processed_dir, 256)"
      ],
      "execution_count": null,
      "outputs": []
    },
    {
      "cell_type": "markdown",
      "metadata": {
        "id": "oEyBwprEIYri"
      },
      "source": [
        "## Более хитрый кроп\n",
        "\n",
        "1. Изменяет размер изображения до нужного разрешения по меньшей стороне\n",
        "\n",
        "2. Разрезает его на квадратные изображения\n",
        "\n",
        "3. Может аугментировать датасет (дополнительно сохранять перевернутые и отзеркаленые изображения)"
      ]
    },
    {
      "cell_type": "code",
      "metadata": {
        "id": "HoOTmlKDIdcI"
      },
      "source": [
        "import glob\n",
        "import os\n",
        "from math import floor, ceil\n",
        "from PIL import Image\n",
        "from tqdm import tqdm"
      ],
      "execution_count": 7,
      "outputs": []
    },
    {
      "cell_type": "markdown",
      "metadata": {
        "id": "emxDoJAQLmVO"
      },
      "source": [
        "**Вспомогательные функции**"
      ]
    },
    {
      "cell_type": "code",
      "metadata": {
        "id": "B2ICtdwnJq7h"
      },
      "source": [
        "def thumbnail(img, size=256):\n",
        "    \"\"\"\n",
        "    Изменяет размер изображения так, чтобы меньшая его сторона равнялась \n",
        "    значению переменной size\n",
        "    \"\"\"\n",
        "    \n",
        "    img = img.copy()\n",
        "\n",
        "    if img.mode not in ('L', 'RGB'):\n",
        "        img = img.convert('RGB')\n",
        "\n",
        "    width, height = img.size\n",
        "\n",
        "    if width == height:\n",
        "        img.thumbnail((size, size), Image.ANTIALIAS)\n",
        "\n",
        "    elif height > width:\n",
        "        ratio = float(height) / float(width)\n",
        "        newheight = ratio * size\n",
        "        img = img.resize((size, int(floor(newheight))), Image.ANTIALIAS)\n",
        "\n",
        "    elif width > height:\n",
        "        ratio = float(width) / float(height)\n",
        "        newwidth = ratio * size\n",
        "        img = img.resize((int(floor(newwidth)), size), Image.ANTIALIAS)\n",
        "\n",
        "\n",
        "    return img"
      ],
      "execution_count": 1,
      "outputs": []
    },
    {
      "cell_type": "code",
      "metadata": {
        "id": "MqIkBgAPKNX8"
      },
      "source": [
        "def get_crop_bboxes(w, h):\n",
        "    \"\"\"\n",
        "    На основе отношения ширины к высоте, вычисляет на какое количество квадратов\n",
        "    надо разрезать изображение, а так же границы этих квадратов\n",
        "    \"\"\"\n",
        "    n_step = ceil(float(w) / float(h))\n",
        "    shift = (w - h) // n_step\n",
        "    shifting_array = []\n",
        "    for step in range(0, n_step):\n",
        "        if w > h:\n",
        "            shifting = (shift * step, 0, shift * step + h, h)\n",
        "        else:\n",
        "            shifting = (0, shift * step, w, shift * step + w)\n",
        "        shifting_array.append(shifting)\n",
        "    if w > h:\n",
        "        shifting = (w - h, 0, w, h)\n",
        "    else:\n",
        "        shifting = (0, h - w, w, h)\n",
        "    shifting_array.append(shifting)\n",
        "    return shifting_array"
      ],
      "execution_count": 3,
      "outputs": []
    },
    {
      "cell_type": "code",
      "metadata": {
        "id": "TIpemrUhK7MI"
      },
      "source": [
        "def save_cuts(img, cnt, path, augment=False):\n",
        "    \"\"\"\n",
        "    Сохраняет вырезанное изображение в папку path под номером cnt\n",
        "    Если аргумент augment равен True также поворачивает это изображение\n",
        "    под разными углами, отзеркаливает его и сохраняет в ту же папку\n",
        "    Возвращает новое значение cnt\n",
        "    \"\"\"\n",
        "    img = img.copy()\n",
        "\n",
        "    img.save(f'{path}/{cnt:08d}.png')\n",
        "    cnt += 1\n",
        "    if augment:\n",
        "        img.transpose(Image.FLIP_LEFT_RIGHT).save(f'{path}/{cnt:08d}.png')\n",
        "        cnt += 1\n",
        "        img.transpose(Image.FLIP_TOP_BOTTOM).save(f'{path}/{cnt:08d}.png')\n",
        "        cnt += 1\n",
        "        img.transpose(Image.ROTATE_180).save(f'{path}/{cnt:08d}.png')\n",
        "        cnt += 1\n",
        "\n",
        "    return cnt"
      ],
      "execution_count": 4,
      "outputs": []
    },
    {
      "cell_type": "markdown",
      "metadata": {
        "id": "QXIryv9_LiQf"
      },
      "source": [
        "**Параметры**"
      ]
    },
    {
      "cell_type": "code",
      "metadata": {
        "id": "GpNaisA9Lqkz",
        "outputId": "f72d0f65-6211-436c-b8a5-991081c935a7",
        "colab": {
          "base_uri": "https://localhost:8080/"
        }
      },
      "source": [
        "input_dir = '/content/drive/My Drive/stylegan/scrape/bing/images/space' \n",
        "processed_dir = '/content/drive/My Drive/stylegan/data/space2' \n",
        "if not os.path.exists(processed_dir):\n",
        "    os.makedirs(processed_dir)\n",
        "\n",
        "images = glob.glob(f'{input_dir}/*.png')+glob.glob(f'{input_dir}/*.jpg')\n",
        "total = len(images)\n",
        "print(f'Number of images: {total}')\n",
        "\n",
        "img_size =1024\n",
        "img_cnt = 0"
      ],
      "execution_count": 8,
      "outputs": [
        {
          "output_type": "stream",
          "text": [
            "Number of images: 99\n"
          ],
          "name": "stdout"
        }
      ]
    },
    {
      "cell_type": "code",
      "metadata": {
        "id": "IlKfRULfMPV-"
      },
      "source": [
        "for i, image in enumerate(tqdm(images, total=total)):\n",
        "    img = Image.open(image)\n",
        "    img = thumbnail(img, size=img_size)\n",
        "    w, h = img.size\n",
        "    bboxes = get_crop_bboxes(w, h)\n",
        "    for bbox in bboxes:\n",
        "        img_cropped = img.crop(bbox)\n",
        "        img_cnt = save_cuts(img_cropped, img_cnt, processed_dir, False)"
      ],
      "execution_count": null,
      "outputs": []
    },
    {
      "cell_type": "markdown",
      "metadata": {
        "id": "L8kiK7WDdO_s"
      },
      "source": [
        "## Определение и выравнивание лиц\n",
        "\n",
        "Скачиваем веса для определения лиц"
      ]
    },
    {
      "cell_type": "code",
      "metadata": {
        "id": "ya3xLV4Ydk2K"
      },
      "source": [
        "%cd /content/\n",
        "!wget https://raw.githubusercontent.com/artem-konevskikh/da-workshop/master/weights/shape_predictor_68_face_landmarks.dat"
      ],
      "execution_count": null,
      "outputs": []
    },
    {
      "cell_type": "code",
      "metadata": {
        "id": "ZFhKbb-pda4N"
      },
      "source": [
        "import cv2\n",
        "import glob\n",
        "import os\n",
        "import uuid\n",
        "import dlib"
      ],
      "execution_count": 10,
      "outputs": []
    },
    {
      "cell_type": "code",
      "metadata": {
        "id": "4vojNqtUdkWn"
      },
      "source": [
        "PREDICTOR_PATH = \"/content/shape_predictor_68_face_landmarks.dat\"\n",
        "FACES_FOLDER = \"/content/drive/My Drive/stylegan/scrape/bing/images/monty_python\"\n",
        "OUTPUT_FOLDER = \"/content/drive/My Drive/stylegan/data/monty_python/\"\n",
        "if not os.path.exists(OUTPUT_FOLDER):\n",
        "  os.makedirs(OUTPUT_FOLDER)\n",
        "\n"
      ],
      "execution_count": 19,
      "outputs": []
    },
    {
      "cell_type": "code",
      "metadata": {
        "id": "e8-JLKo9eP7x"
      },
      "source": [
        "detector = dlib.get_frontal_face_detector()\n",
        "sp = dlib.shape_predictor(\"shape_predictor_68_face_landmarks.dat\")"
      ],
      "execution_count": 16,
      "outputs": []
    },
    {
      "cell_type": "markdown",
      "metadata": {
        "id": "qaTH0G4CeLMc"
      },
      "source": [
        "Запускаем обработку"
      ]
    },
    {
      "cell_type": "code",
      "metadata": {
        "id": "_STGrBj4eMT7"
      },
      "source": [
        "for f in glob.glob(os.path.join(FACES_FOLDER, \"*.jpg\")):\n",
        "    # Load the image using Dlib\n",
        "    try:\n",
        "        img = dlib.load_rgb_image(f)\n",
        "    except:\n",
        "        continue\n",
        "    print(\"Processing file: {}\".format(f))\n",
        "    dets = detector(img, 1)\n",
        "\n",
        "    num_faces = len(dets)\n",
        "    print(f\"Faces found: {num_faces}\")\n",
        "    if num_faces == 0:\n",
        "        print(f\"Sorry, there were no faces found in '{f}'\")\n",
        "        continue\n",
        "\n",
        "    faces = dlib.full_object_detections()\n",
        "    for detection in dets:\n",
        "        faces.append(sp(img, detection))\n",
        "\n",
        " \n",
        "    images = dlib.get_face_chips(img, faces, size=256, padding=0.5)\n",
        "\n",
        "    for image in images:\n",
        "        dlib.save_image(image, OUTPUT_FOLDER + str(uuid.uuid4()) + \".jpg\")"
      ],
      "execution_count": null,
      "outputs": []
    }
  ]
}