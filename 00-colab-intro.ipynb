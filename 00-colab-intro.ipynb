{
  "nbformat": 4,
  "nbformat_minor": 0,
  "metadata": {
    "colab": {
      "name": "00-colab-intro.ipynb",
      "provenance": [],
      "collapsed_sections": [],
      "toc_visible": true
    },
    "kernelspec": {
      "name": "python3",
      "display_name": "Python 3"
    }
  },
  "cells": [
    {
      "cell_type": "markdown",
      "metadata": {
        "id": "Z1BGu6tVpfDT"
      },
      "source": [
        "# Использование Google Colaboratory\n",
        "\n",
        "**Google Colab** — это бесплатный облачный сервис на основе Jupyter Notebook, который предоставляет всё необходимое для машинного обучения прямо в браузере, даёт бесплатный доступ к невероятно быстрым GPU и TPU. \n",
        "\n",
        "Для того, чтоб использовать предоставляемые Google ресурсы выберите в меню `Runtime -> Change runtime type`. Далее можно выбрать 3 варианта:\n",
        "- **None** - не использовать ускорение\n",
        "- **GPU** - использовать графическую карту\n",
        "- **TPU** - использовать Tensor Processor Unit\n",
        "\n",
        "В случае если вы запускаете скрипты, не требующие аппаратного ускорения, проверьте, что выбран вариант None - т.к. ресурсы шарятся между всеми пользователями платформы, лучше без нужды не занимать их.\n",
        "\n",
        "Так же в Google Colab существует ограничение -- ноутбук \"сбрасывается\" каждые 12 часов, то есть если оставить сетку обучаться больше, чем на 12 часов, то может произойти неприятное -- ноутбук просто перестанет выполнятся сам по себе."
      ]
    },
    {
      "cell_type": "markdown",
      "metadata": {
        "id": "rj7EjgVSsf5H"
      },
      "source": [
        "# Интерфейс\n",
        "\n",
        "В Google Colab есть два типа ячеек - текстовые (с `markdown` форматированием) и ячейки для запуска кода\n",
        "\n",
        "Добавлять ячейки можно с помощью кнопок **+Code** и **+Text**\n",
        "Перемещать с помощью стрелок вверх и вниз в правом верхнем углу ячейки. Там же есть и други настройки ячеек"
      ]
    },
    {
      "cell_type": "markdown",
      "metadata": {
        "id": "lUOPHVtY2QRS"
      },
      "source": [
        "## Ячейки кода\n",
        "Ниже ячейка кода. Его можно запустить несколькими способами:\n",
        "\n",
        "* Нажать иконку **Play** слева от ячейки (появляется, если навести на квадратные скобки);\n",
        "* Нажать **Cmd/Ctrl+Enter** чтоб запустить выбранную ячейку;\n",
        "* Нажать **Shift+Enter** чтоб запустить ячейку и перейти к следующей (или создать новую, если следующей нет);\n",
        "* Нажать **Alt+Enter** чтоб запустить ячейку и создать новую сразу следом за текущей.\n",
        "\n",
        "Также в меню **Runtime** есть еще разные опции запуска ячеек.\n",
        "Медленно работающие или зависшие ячейки можно останавливать в меню **Runtime -> Interrupt execution** *(hotkey: Cmd/Ctrl-M I)*\n",
        "\n",
        "Начиная с этого момента и далее, запускайте ячейки с кодом, чтобы лучше понять происходящее"
      ]
    },
    {
      "cell_type": "code",
      "metadata": {
        "id": "NFboB2TOpZKn"
      },
      "source": [
        "# ячейка с кодом\n",
        "print(\"Hello world\")"
      ],
      "execution_count": null,
      "outputs": []
    },
    {
      "cell_type": "markdown",
      "metadata": {
        "id": "1JXlmaQcEm6c"
      },
      "source": [
        "## Магия\n",
        "В Colab поддерживаются мэджиксы из Jupyter -- короткие команды, меняющие поведение ячейки (можно почитать [тут](https://nbviewer.jupyter.org/github/ipython/ipython/blob/1.x/examples/notebooks/Cell%20Magics.ipynb))\n",
        "Например, вставлять html"
      ]
    },
    {
      "cell_type": "code",
      "metadata": {
        "id": "_WfOTQIQE8gG"
      },
      "source": [
        "%%html\n",
        "<marquee style='width: 30%; color: red;'><b>Магия!</b></marquee>"
      ],
      "execution_count": null,
      "outputs": []
    },
    {
      "cell_type": "markdown",
      "metadata": {
        "id": "iQSjjlNrGLvt"
      },
      "source": [
        "## Форматирование ошибок\n",
        "Добавлено удобное форматирование ошибок. В том числе есть ссылка на поиск подобных ошибок на stackoverflow, так что вы быстро сможете разобраться в чем дело"
      ]
    },
    {
      "cell_type": "code",
      "metadata": {
        "id": "sedVXRA3GZ27"
      },
      "source": [
        "x = 1/0"
      ],
      "execution_count": null,
      "outputs": []
    },
    {
      "cell_type": "markdown",
      "metadata": {
        "id": "Ammqp-eZGnBu"
      },
      "source": [
        "## Интерактивный вывод\n",
        "Можно не только печатать текст с помощью команды print, но и выводить изображения, прогрессбары и прочие интерактивные элементы"
      ]
    },
    {
      "cell_type": "code",
      "metadata": {
        "id": "bXJtDpUzHA2g"
      },
      "source": [
        "import numpy as np\n",
        "from matplotlib import pyplot as plt\n",
        "\n",
        "ys = 200 + np.random.randn(100)\n",
        "x = [x for x in range(len(ys))]\n",
        "\n",
        "plt.plot(x, ys, '-')\n",
        "plt.fill_between(x, ys, 195, where=(ys > 195), facecolor='g', alpha=0.6)\n",
        "\n",
        "plt.title(\"Fills and Alpha Example\")\n",
        "plt.show()"
      ],
      "execution_count": null,
      "outputs": []
    },
    {
      "cell_type": "markdown",
      "metadata": {
        "id": "cSucuHH0CNKC"
      },
      "source": [
        "# Системные команды\n",
        "\n",
        "Поскольку Google Colab работает на Linux, в ноутбуках можно обращаться к некоторым системным командам. Список можно посмотреть так `!ls /bin`\n",
        "\n",
        "В основном при работе с Colab требуются следующие команды:\n",
        "* `pip` - установка библиотек Python. Пример: `!pip install numpy`\n",
        "* `ls` - просмотр файлов в папке. Пример: `!ls .` - содержимое текущей папки; `!ls another_folder` - содержимое папки `another_folder`\n",
        "* `cd` - перейти в другую папку. Пример: `!cd another_folder`\n",
        "* `pwd` - проверить, в какой папке мы сейчас находимся. Пример: `!pwd`\n",
        "* `mkdir` - создать папку. Пример: `!mkdir new_folder`\n",
        "* `cat` - вывести содержимое файла. Пример: `!cat text.txt`\n",
        "* `wget` - скачать файл из интернета. Пример: `!wget https://files.strelka-ai.team/dataset/files/cities.csv`\n",
        "\n",
        "Команда всегда должна начинаться с ! или %, иначе она будет воспринята как код Python"
      ]
    },
    {
      "cell_type": "code",
      "metadata": {
        "id": "dfG9Lt1SIM3b"
      },
      "source": [
        "!ls /bin"
      ],
      "execution_count": null,
      "outputs": []
    },
    {
      "cell_type": "markdown",
      "metadata": {
        "id": "Uc87HgqRC00R"
      },
      "source": [
        "# Работа с файлами\n",
        "\n",
        "Выполнив команду !ls в ячейке с кодом можно увидеть, какие файлы лежат в данной папке (вместе с запущенным ноутбуком).\n",
        "\n",
        "**Загрузка файлов**\n",
        "\n",
        "Чтобы загрузить свой файл/несколько файлов, можно выполнить этот следующий код. Он добавит виджет с предложением выбрать файлы на компьютере (файлы закачиваются в ту же папку, где запущен ноутбук)"
      ]
    },
    {
      "cell_type": "code",
      "metadata": {
        "id": "yzejDydbJZdN"
      },
      "source": [
        "from google.colab import files\n",
        "\n",
        "uploaded = files.upload()\n",
        "\n",
        "for fn in uploaded.keys():\n",
        "  print('Пользователь загрузил файл \"{name}\" длиной {length} байт'.format(\n",
        "      name=fn, length=len(uploaded[fn])))"
      ],
      "execution_count": null,
      "outputs": []
    },
    {
      "cell_type": "markdown",
      "metadata": {
        "id": "2dldxlybJnbr"
      },
      "source": [
        "**Скачивание файлов**\n",
        "\n",
        "`files.download` заставит браузер скачать файл на ваш компьютер"
      ]
    },
    {
      "cell_type": "code",
      "metadata": {
        "id": "1cnpMEsjKSIK"
      },
      "source": [
        "from google.colab import files\n",
        "\n",
        "with open('example.txt', 'w') as f:\n",
        "  f.write('some content')\n",
        "\n",
        "files.download('example.txt')"
      ],
      "execution_count": null,
      "outputs": []
    },
    {
      "cell_type": "markdown",
      "metadata": {
        "id": "N3OrJDOvAW6A"
      },
      "source": [
        "Подключить Google Drive"
      ]
    },
    {
      "cell_type": "code",
      "metadata": {
        "id": "79-eqdy7AXZt"
      },
      "source": [
        "from google.colab import drive\n",
        "drive.mount('/content/gdrive')"
      ],
      "execution_count": null,
      "outputs": []
    },
    {
      "cell_type": "code",
      "metadata": {
        "id": "DHZG9g30A0I5"
      },
      "source": [
        "!ls \"/content/gdrive/My Drive/\""
      ],
      "execution_count": null,
      "outputs": []
    },
    {
      "cell_type": "markdown",
      "metadata": {
        "id": "VrZVI1Z_eIa0"
      },
      "source": [
        "Следующая функция позволяет загрузить файлы в заданную вами папку (в этом блоке мы объявляем функцию, а используется уже в следующем)"
      ]
    },
    {
      "cell_type": "code",
      "metadata": {
        "id": "AoTQ3NxldtoM"
      },
      "source": [
        "def upload_files(path='./', verbose=False):\n",
        "  '''\n",
        "    Загружает выбранные файлы в папку path\n",
        "  '''\n",
        "  from google.colab import files\n",
        "  import os\n",
        "  # загрузка файлов в Colab\n",
        "  uploaded = files.upload()\n",
        "  # если указанная папка не существует, то создаем ее\n",
        "  if not os.path.exists(path):\n",
        "    os.makedirs(path)\n",
        "  # перемещаем загруженные файлы в нашу папку\n",
        "  for name, bytes_ in uploaded.items():\n",
        "    open(os.path.join(path, name), 'wb').write(bytes_)\n",
        "    os.remove(name)\n",
        "    \n",
        "  if verbose:\n",
        "    print('Uploaded files: ' + '\\n'.join(list(uploaded.keys())))"
      ],
      "execution_count": null,
      "outputs": []
    },
    {
      "cell_type": "code",
      "metadata": {
        "id": "sD0kHFBJd3V0"
      },
      "source": [
        "upload_files(path='./data/train/')  "
      ],
      "execution_count": null,
      "outputs": []
    }
  ]
}