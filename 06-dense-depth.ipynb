{
  "nbformat": 4,
  "nbformat_minor": 0,
  "metadata": {
    "colab": {
      "name": "DenseDepth",
      "provenance": [],
      "collapsed_sections": [],
      "toc_visible": true
    },
    "kernelspec": {
      "name": "python3",
      "display_name": "Python 3"
    },
    "accelerator": "GPU"
  },
  "cells": [
    {
      "cell_type": "markdown",
      "metadata": {
        "id": "XlT9XIhHYDvV"
      },
      "source": [
        "# DenseDepth\n",
        "\n",
        "Восстановление карты глубины по одному снимку\n",
        "\n",
        "https://github.com/ialhashim/DenseDepth"
      ]
    },
    {
      "cell_type": "markdown",
      "metadata": {
        "id": "a4YQbhTqYNqB"
      },
      "source": [
        "## Установка\n",
        "\n",
        "Скачиваем саму нейросеть"
      ]
    },
    {
      "cell_type": "code",
      "metadata": {
        "id": "ahkR4C5dEnR0"
      },
      "source": [
        "!git clone https://github.com/ialhashim/DenseDepth.git"
      ],
      "execution_count": null,
      "outputs": []
    },
    {
      "cell_type": "markdown",
      "metadata": {
        "id": "aAM6dBsbYVHd"
      },
      "source": [
        "**Загружаем предобученные веса**\n",
        "\n",
        "Интерьеры\n",
        "\n",
        "```\n",
        "!wget https://s3-eu-west-1.amazonaws.com/densedepth/nyu.h5 -O ./DenseDepth/nyu.h5\n",
        "```\n",
        "\n",
        "\n",
        "\n",
        "Улицы\n",
        "\n",
        "```\n",
        "!wget https://s3-eu-west-1.amazonaws.com/densedepth/kitti.h5 -O ./DenseDepth/kitti.h5\n",
        "```"
      ]
    },
    {
      "cell_type": "code",
      "metadata": {
        "id": "fFQgwMlNExak"
      },
      "source": [
        "!wget https://s3-eu-west-1.amazonaws.com/densedepth/nyu.h5 -O ./DenseDepth/nyu.h5"
      ],
      "execution_count": null,
      "outputs": []
    },
    {
      "cell_type": "markdown",
      "metadata": {
        "id": "m3BDULAhY4qP"
      },
      "source": [
        "## Генерация карты глубины\n",
        "\n",
        "Результат будет в файле ` DenseDepth/test.png `\n",
        "\n"
      ]
    },
    {
      "cell_type": "code",
      "metadata": {
        "id": "AiJKd6uLE9Gr"
      },
      "source": [
        "%cd DenseDepth\n",
        "!python test.py --model nyu.h5 --input /content/room.png"
      ],
      "execution_count": null,
      "outputs": []
    },
    {
      "cell_type": "code",
      "metadata": {
        "id": "HjzqM74-FfyL"
      },
      "source": [
        "from matplotlib import pyplot as plt\n",
        "from skimage import io\n",
        "\n",
        "plt.figure(figsize=(20,20))\n",
        "plt.imshow( io.imread('./DenseDepth/test.png') )"
      ],
      "execution_count": null,
      "outputs": []
    },
    {
      "cell_type": "code",
      "metadata": {
        "id": "Ra7GEtQBHUMS"
      },
      "source": [
        ""
      ],
      "execution_count": null,
      "outputs": []
    }
  ]
}