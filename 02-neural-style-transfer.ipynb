{
  "nbformat": 4,
  "nbformat_minor": 0,
  "metadata": {
    "colab": {
      "name": "Neural_Style_Transfer.ipynb",
      "provenance": [],
      "collapsed_sections": []
    },
    "kernelspec": {
      "name": "python3",
      "display_name": "Python 3"
    },
    "accelerator": "GPU"
  },
  "cells": [
    {
      "cell_type": "markdown",
      "metadata": {
        "id": "PaxTz9Sx7ra7"
      },
      "source": [
        "# Neural Style Transfer"
      ]
    },
    {
      "cell_type": "markdown",
      "metadata": {
        "id": "rlOr39RL2pgR"
      },
      "source": [
        "## Подготовка\n",
        "Сперва клонируем репозиторий с нейросетью. Если папка существует, то она будет удалена и загружена заново"
      ]
    },
    {
      "cell_type": "code",
      "metadata": {
        "id": "jvJfETG3zzfW"
      },
      "source": [
        "%tensorflow_version 1.x\n",
        "!rm -r ComputerVision NeuralStyleTransfer\n",
        "\n",
        "!git clone https://github.com/ldfrancis/ComputerVision.git\n",
        "  \n",
        "!cp -r ComputerVision/NeuralStyleTransfer .\n"
      ],
      "execution_count": null,
      "outputs": []
    },
    {
      "cell_type": "markdown",
      "metadata": {
        "id": "H9XPW0pd3cYo"
      },
      "source": [
        "## Загрузка\n",
        "\n",
        "Загружаем два изображения. Одно будет выступать как контент, другое как стиль. Оба изображения должны быть одинакового размера!"
      ]
    },
    {
      "cell_type": "code",
      "metadata": {
        "id": "H8AEHK3s3dUq"
      },
      "source": [
        "from google.colab import files\n",
        "files.upload()"
      ],
      "execution_count": null,
      "outputs": []
    },
    {
      "cell_type": "markdown",
      "metadata": {
        "id": "oaVerIGh4gyu"
      },
      "source": [
        "## Настройка\n",
        "\n",
        "Прописываем имена загруженных файлов в переменные CONTENT_IMAGE и STYLE_IMAGE.\n",
        "\n",
        "В IMAGE_WIDTH и IMAGE_HEIGHT записываем размеры изображения\n",
        "\n",
        "В ITERATION - какое количество раз будет проанализированно наше изображение"
      ]
    },
    {
      "cell_type": "code",
      "metadata": {
        "id": "93nBlEJvxyff"
      },
      "source": [
        "IMAGE_HEIGHT = 598\n",
        "IMAGE_WIDTH = 1000\n",
        "\n",
        "ITERATION = 700"
      ],
      "execution_count": 9,
      "outputs": []
    },
    {
      "cell_type": "markdown",
      "metadata": {
        "id": "fWomnSnE5Pcl"
      },
      "source": [
        "Здесь задаются пути к картинкам"
      ]
    },
    {
      "cell_type": "code",
      "metadata": {
        "id": "vGtljus6x6I0"
      },
      "source": [
        "path_to_content_image = \"/content/church.jpg\"\n",
        "path_to_style_image = \"/content/bilibin.jpg\""
      ],
      "execution_count": 4,
      "outputs": []
    },
    {
      "cell_type": "markdown",
      "metadata": {
        "id": "gMhjc6OY7DQ1"
      },
      "source": [
        "## Просмотр изображений"
      ]
    },
    {
      "cell_type": "code",
      "metadata": {
        "id": "bHOcb6eY7M6c"
      },
      "source": [
        "import matplotlib.pyplot as plt\n",
        "c_image = plt.imread(path_to_content_image)\n",
        "s_image = plt.imread(path_to_style_image)"
      ],
      "execution_count": 5,
      "outputs": []
    },
    {
      "cell_type": "code",
      "metadata": {
        "id": "BkEp8BsM7pfL"
      },
      "source": [
        "print(\"Content Image of size (height, width) => {0}\".format(c_image.shape[:-1]))\n",
        "plt.imshow(c_image)"
      ],
      "execution_count": null,
      "outputs": []
    },
    {
      "cell_type": "code",
      "metadata": {
        "id": "osgZo_Ow73p6"
      },
      "source": [
        "print(\"Style Image of size (height, width) => {0}\".format(s_image.shape[:-1]))\n",
        "plt.imshow(s_image)"
      ],
      "execution_count": null,
      "outputs": []
    },
    {
      "cell_type": "markdown",
      "metadata": {
        "id": "oi-Ipr965aPU"
      },
      "source": [
        "И наконец запускаем тренировку"
      ]
    },
    {
      "cell_type": "code",
      "metadata": {
        "id": "TuL7dNMS0H_S"
      },
      "source": [
        "from NeuralStyleTransfer import implementNTS as NST\n",
        "\n",
        "NST.setImageDim(IMAGE_WIDTH,IMAGE_HEIGHT)\n",
        "\n",
        "NST.run(ITERATION, style_image=path_to_style_image, content_image=path_to_content_image)"
      ],
      "execution_count": null,
      "outputs": []
    },
    {
      "cell_type": "markdown",
      "metadata": {
        "id": "ImaKx7Pc6X7n"
      },
      "source": [
        "Промежуточные картинки сохраняются после каждой сотой итерации и финальная картинка сохраняется в файл 'generated_image.jpg'. "
      ]
    },
    {
      "cell_type": "code",
      "metadata": {
        "id": "fyNdOsC1wGUV"
      },
      "source": [
        "!ls /content/NeuralStyleTransfer/output/"
      ],
      "execution_count": null,
      "outputs": []
    },
    {
      "cell_type": "markdown",
      "metadata": {
        "id": "R0hGXC4I8bHZ"
      },
      "source": [
        "## Просмотр финального изображения"
      ]
    },
    {
      "cell_type": "code",
      "metadata": {
        "id": "nmCrtFGI8ez5"
      },
      "source": [
        "generated_image_path = \"/content/NeuralStyleTransfer/output/generated_image.jpg\"\n",
        "image = plt.imread(generated_image_path)\n",
        "plt.imshow(image)"
      ],
      "execution_count": null,
      "outputs": []
    },
    {
      "cell_type": "markdown",
      "metadata": {
        "id": "wc-fgRwf6zMm"
      },
      "source": [
        "## Скачать изображение"
      ]
    },
    {
      "cell_type": "code",
      "metadata": {
        "id": "v1ejbD620KZ7",
        "outputId": "24760945-00ba-4758-d835-dabc54be467d",
        "colab": {
          "base_uri": "https://localhost:8080/",
          "height": 17
        }
      },
      "source": [
        "files.download(generated_image_path) "
      ],
      "execution_count": 13,
      "outputs": [
        {
          "output_type": "display_data",
          "data": {
            "application/javascript": [
              "\n",
              "    async function download(id, filename, size) {\n",
              "      if (!google.colab.kernel.accessAllowed) {\n",
              "        return;\n",
              "      }\n",
              "      const div = document.createElement('div');\n",
              "      const label = document.createElement('label');\n",
              "      label.textContent = `Downloading \"${filename}\": `;\n",
              "      div.appendChild(label);\n",
              "      const progress = document.createElement('progress');\n",
              "      progress.max = size;\n",
              "      div.appendChild(progress);\n",
              "      document.body.appendChild(div);\n",
              "\n",
              "      const buffers = [];\n",
              "      let downloaded = 0;\n",
              "\n",
              "      const channel = await google.colab.kernel.comms.open(id);\n",
              "      // Send a message to notify the kernel that we're ready.\n",
              "      channel.send({})\n",
              "\n",
              "      for await (const message of channel.messages) {\n",
              "        // Send a message to notify the kernel that we're ready.\n",
              "        channel.send({})\n",
              "        if (message.buffers) {\n",
              "          for (const buffer of message.buffers) {\n",
              "            buffers.push(buffer);\n",
              "            downloaded += buffer.byteLength;\n",
              "            progress.value = downloaded;\n",
              "          }\n",
              "        }\n",
              "      }\n",
              "      const blob = new Blob(buffers, {type: 'application/binary'});\n",
              "      const a = document.createElement('a');\n",
              "      a.href = window.URL.createObjectURL(blob);\n",
              "      a.download = filename;\n",
              "      div.appendChild(a);\n",
              "      a.click();\n",
              "      div.remove();\n",
              "    }\n",
              "  "
            ],
            "text/plain": [
              "<IPython.core.display.Javascript object>"
            ]
          },
          "metadata": {
            "tags": []
          }
        },
        {
          "output_type": "display_data",
          "data": {
            "application/javascript": [
              "download(\"download_df71009f-5e36-43a1-be6b-9eb157158081\", \"generated_image.jpg\", 105430)"
            ],
            "text/plain": [
              "<IPython.core.display.Javascript object>"
            ]
          },
          "metadata": {
            "tags": []
          }
        }
      ]
    },
    {
      "cell_type": "code",
      "metadata": {
        "id": "YI2Hvw63DQ4N"
      },
      "source": [
        ""
      ],
      "execution_count": null,
      "outputs": []
    }
  ]
}